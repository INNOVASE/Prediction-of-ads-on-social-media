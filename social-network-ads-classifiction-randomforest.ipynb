{
 "cells": [
  {
   "cell_type": "markdown",
   "id": "0251e0e0",
   "metadata": {
    "papermill": {
     "duration": 0.025362,
     "end_time": "2021-08-27T07:33:51.856211",
     "exception": false,
     "start_time": "2021-08-27T07:33:51.830849",
     "status": "completed"
    },
    "tags": []
   },
   "source": [
    "## Social Network ads prediction\n",
    "\n",
    "We will predict wheater the user will purchase the product or not basis on gender, age and estimated salary.\n",
    "we will use RandomForestClassifier to Create Machine learning model"
   ]
  },
  {
   "cell_type": "code",
   "execution_count": null,
   "id": "43bb1cc2",
   "metadata": {
    "papermill": {
     "duration": 0.023581,
     "end_time": "2021-08-27T07:33:51.904551",
     "exception": false,
     "start_time": "2021-08-27T07:33:51.880970",
     "status": "completed"
    },
    "tags": []
   },
   "outputs": [],
   "source": []
  },
  {
   "cell_type": "code",
   "execution_count": 1,
   "id": "2321a460",
   "metadata": {
    "execution": {
     "iopub.execute_input": "2021-08-27T07:33:51.967481Z",
     "iopub.status.busy": "2021-08-27T07:33:51.966733Z",
     "iopub.status.idle": "2021-08-27T07:33:53.075311Z",
     "shell.execute_reply": "2021-08-27T07:33:53.074119Z",
     "shell.execute_reply.started": "2021-08-27T07:29:12.533670Z"
    },
    "papermill": {
     "duration": 1.14504,
     "end_time": "2021-08-27T07:33:53.075508",
     "exception": false,
     "start_time": "2021-08-27T07:33:51.930468",
     "status": "completed"
    },
    "tags": []
   },
   "outputs": [],
   "source": [
    "# importing the necessary libraries\n",
    "import joblib\n",
    "import pandas as pd\n",
    "from matplotlib import pyplot as plt\n",
    "from sklearn.preprocessing import LabelEncoder\n",
    "from sklearn.preprocessing import StandardScaler\n",
    "from sklearn.ensemble import RandomForestClassifier\n",
    "from sklearn.model_selection import train_test_split\n",
    "from sklearn.metrics import accuracy_score, classification_report, confusion_matrix"
   ]
  },
  {
   "cell_type": "code",
   "execution_count": 2,
   "id": "ffdaa894",
   "metadata": {
    "execution": {
     "iopub.execute_input": "2021-08-27T07:33:53.130132Z",
     "iopub.status.busy": "2021-08-27T07:33:53.129343Z",
     "iopub.status.idle": "2021-08-27T07:33:53.150762Z",
     "shell.execute_reply": "2021-08-27T07:33:53.149550Z",
     "shell.execute_reply.started": "2021-08-27T07:29:25.063242Z"
    },
    "papermill": {
     "duration": 0.050725,
     "end_time": "2021-08-27T07:33:53.150914",
     "exception": false,
     "start_time": "2021-08-27T07:33:53.100189",
     "status": "completed"
    },
    "tags": []
   },
   "outputs": [],
   "source": [
    "df = pd.read_csv(\"../input/logistic-regression/Social_Network_Ads.csv\")"
   ]
  },
  {
   "cell_type": "code",
   "execution_count": 3,
   "id": "6d556eb6",
   "metadata": {
    "execution": {
     "iopub.execute_input": "2021-08-27T07:33:53.209996Z",
     "iopub.status.busy": "2021-08-27T07:33:53.209299Z",
     "iopub.status.idle": "2021-08-27T07:33:53.225131Z",
     "shell.execute_reply": "2021-08-27T07:33:53.225757Z",
     "shell.execute_reply.started": "2021-08-27T07:29:26.686777Z"
    },
    "papermill": {
     "duration": 0.050608,
     "end_time": "2021-08-27T07:33:53.225933",
     "exception": false,
     "start_time": "2021-08-27T07:33:53.175325",
     "status": "completed"
    },
    "tags": []
   },
   "outputs": [
    {
     "data": {
      "text/html": [
       "<div>\n",
       "<style scoped>\n",
       "    .dataframe tbody tr th:only-of-type {\n",
       "        vertical-align: middle;\n",
       "    }\n",
       "\n",
       "    .dataframe tbody tr th {\n",
       "        vertical-align: top;\n",
       "    }\n",
       "\n",
       "    .dataframe thead th {\n",
       "        text-align: right;\n",
       "    }\n",
       "</style>\n",
       "<table border=\"1\" class=\"dataframe\">\n",
       "  <thead>\n",
       "    <tr style=\"text-align: right;\">\n",
       "      <th></th>\n",
       "      <th>User ID</th>\n",
       "      <th>Gender</th>\n",
       "      <th>Age</th>\n",
       "      <th>EstimatedSalary</th>\n",
       "      <th>Purchased</th>\n",
       "    </tr>\n",
       "  </thead>\n",
       "  <tbody>\n",
       "    <tr>\n",
       "      <th>0</th>\n",
       "      <td>15624510</td>\n",
       "      <td>Male</td>\n",
       "      <td>19</td>\n",
       "      <td>19000</td>\n",
       "      <td>0</td>\n",
       "    </tr>\n",
       "    <tr>\n",
       "      <th>1</th>\n",
       "      <td>15810944</td>\n",
       "      <td>Male</td>\n",
       "      <td>35</td>\n",
       "      <td>20000</td>\n",
       "      <td>0</td>\n",
       "    </tr>\n",
       "    <tr>\n",
       "      <th>2</th>\n",
       "      <td>15668575</td>\n",
       "      <td>Female</td>\n",
       "      <td>26</td>\n",
       "      <td>43000</td>\n",
       "      <td>0</td>\n",
       "    </tr>\n",
       "    <tr>\n",
       "      <th>3</th>\n",
       "      <td>15603246</td>\n",
       "      <td>Female</td>\n",
       "      <td>27</td>\n",
       "      <td>57000</td>\n",
       "      <td>0</td>\n",
       "    </tr>\n",
       "    <tr>\n",
       "      <th>4</th>\n",
       "      <td>15804002</td>\n",
       "      <td>Male</td>\n",
       "      <td>19</td>\n",
       "      <td>76000</td>\n",
       "      <td>0</td>\n",
       "    </tr>\n",
       "  </tbody>\n",
       "</table>\n",
       "</div>"
      ],
      "text/plain": [
       "    User ID  Gender  Age  EstimatedSalary  Purchased\n",
       "0  15624510    Male   19            19000          0\n",
       "1  15810944    Male   35            20000          0\n",
       "2  15668575  Female   26            43000          0\n",
       "3  15603246  Female   27            57000          0\n",
       "4  15804002    Male   19            76000          0"
      ]
     },
     "execution_count": 3,
     "metadata": {},
     "output_type": "execute_result"
    }
   ],
   "source": [
    "# showing the DataFrame\n",
    "df.head()"
   ]
  },
  {
   "cell_type": "code",
   "execution_count": 4,
   "id": "2e0facdb",
   "metadata": {
    "execution": {
     "iopub.execute_input": "2021-08-27T07:33:53.278451Z",
     "iopub.status.busy": "2021-08-27T07:33:53.277802Z",
     "iopub.status.idle": "2021-08-27T07:33:53.285151Z",
     "shell.execute_reply": "2021-08-27T07:33:53.285763Z",
     "shell.execute_reply.started": "2021-08-27T07:29:29.082939Z"
    },
    "papermill": {
     "duration": 0.035172,
     "end_time": "2021-08-27T07:33:53.285935",
     "exception": false,
     "start_time": "2021-08-27T07:33:53.250763",
     "status": "completed"
    },
    "tags": []
   },
   "outputs": [
    {
     "data": {
      "text/plain": [
       "User ID            0\n",
       "Gender             0\n",
       "Age                0\n",
       "EstimatedSalary    0\n",
       "Purchased          0\n",
       "dtype: int64"
      ]
     },
     "execution_count": 4,
     "metadata": {},
     "output_type": "execute_result"
    }
   ],
   "source": [
    "# checking for missing values\n",
    "df.isnull().sum()"
   ]
  },
  {
   "cell_type": "code",
   "execution_count": 5,
   "id": "ee8c2a24",
   "metadata": {
    "execution": {
     "iopub.execute_input": "2021-08-27T07:33:53.338314Z",
     "iopub.status.busy": "2021-08-27T07:33:53.337704Z",
     "iopub.status.idle": "2021-08-27T07:33:53.342187Z",
     "shell.execute_reply": "2021-08-27T07:33:53.341639Z"
    },
    "papermill": {
     "duration": 0.031674,
     "end_time": "2021-08-27T07:33:53.342329",
     "exception": false,
     "start_time": "2021-08-27T07:33:53.310655",
     "status": "completed"
    },
    "tags": []
   },
   "outputs": [],
   "source": [
    "# basic exploring the dataset"
   ]
  },
  {
   "cell_type": "code",
   "execution_count": 6,
   "id": "e2c32464",
   "metadata": {
    "execution": {
     "iopub.execute_input": "2021-08-27T07:33:53.416873Z",
     "iopub.status.busy": "2021-08-27T07:33:53.416179Z",
     "iopub.status.idle": "2021-08-27T07:33:53.592241Z",
     "shell.execute_reply": "2021-08-27T07:33:53.591567Z",
     "shell.execute_reply.started": "2021-08-27T07:29:35.230900Z"
    },
    "papermill": {
     "duration": 0.22507,
     "end_time": "2021-08-27T07:33:53.592385",
     "exception": false,
     "start_time": "2021-08-27T07:33:53.367315",
     "status": "completed"
    },
    "tags": []
   },
   "outputs": [
    {
     "data": {
      "image/png": "[encoded data removed]",
      "text/plain": [
       "<Figure size 432x288 with 1 Axes>"
      ]
     },
     "metadata": {
      "needs_background": "light"
     },
     "output_type": "display_data"
    }
   ],
   "source": [
    "# checking the salary range\n",
    "plt.hist(df[\"EstimatedSalary\"])\n",
    "plt.show()"
   ]
  },
  {
   "cell_type": "code",
   "execution_count": 7,
   "id": "b109720a",
   "metadata": {
    "execution": {
     "iopub.execute_input": "2021-08-27T07:33:53.648763Z",
     "iopub.status.busy": "2021-08-27T07:33:53.648067Z",
     "iopub.status.idle": "2021-08-27T07:33:53.787323Z",
     "shell.execute_reply": "2021-08-27T07:33:53.787823Z",
     "shell.execute_reply.started": "2021-08-27T07:29:37.721284Z"
    },
    "papermill": {
     "duration": 0.169847,
     "end_time": "2021-08-27T07:33:53.788017",
     "exception": false,
     "start_time": "2021-08-27T07:33:53.618170",
     "status": "completed"
    },
    "tags": []
   },
   "outputs": [
    {
     "data": {
      "image/png": "[encoded data removed]",
      "text/plain": [
       "<Figure size 432x288 with 1 Axes>"
      ]
     },
     "metadata": {
      "needs_background": "light"
     },
     "output_type": "display_data"
    }
   ],
   "source": [
    "# we have imbalance class here\n",
    "plt.hist(df[\"Purchased\"])\n",
    "plt.show()"
   ]
  },
  {
   "cell_type": "code",
   "execution_count": 8,
   "id": "f0ab60bd",
   "metadata": {
    "execution": {
     "iopub.execute_input": "2021-08-27T07:33:53.844563Z",
     "iopub.status.busy": "2021-08-27T07:33:53.843883Z",
     "iopub.status.idle": "2021-08-27T07:33:53.846816Z",
     "shell.execute_reply": "2021-08-27T07:33:53.847310Z",
     "shell.execute_reply.started": "2021-08-27T07:29:40.233204Z"
    },
    "papermill": {
     "duration": 0.033253,
     "end_time": "2021-08-27T07:33:53.847473",
     "exception": false,
     "start_time": "2021-08-27T07:33:53.814220",
     "status": "completed"
    },
    "tags": []
   },
   "outputs": [],
   "source": [
    "# we don't need User ID for classification\n",
    "# seprated the features and output"
   ]
  },
  {
   "cell_type": "code",
   "execution_count": 9,
   "id": "2e061372",
   "metadata": {
    "execution": {
     "iopub.execute_input": "2021-08-27T07:33:53.903564Z",
     "iopub.status.busy": "2021-08-27T07:33:53.902902Z",
     "iopub.status.idle": "2021-08-27T07:33:53.907893Z",
     "shell.execute_reply": "2021-08-27T07:33:53.908490Z",
     "shell.execute_reply.started": "2021-08-27T07:30:28.874192Z"
    },
    "papermill": {
     "duration": 0.034789,
     "end_time": "2021-08-27T07:33:53.908679",
     "exception": false,
     "start_time": "2021-08-27T07:33:53.873890",
     "status": "completed"
    },
    "tags": []
   },
   "outputs": [],
   "source": [
    "X = df.drop([\"User ID\", \"Purchased\"], axis =1)"
   ]
  },
  {
   "cell_type": "code",
   "execution_count": 10,
   "id": "ee86a8f8",
   "metadata": {
    "execution": {
     "iopub.execute_input": "2021-08-27T07:33:53.964801Z",
     "iopub.status.busy": "2021-08-27T07:33:53.964153Z",
     "iopub.status.idle": "2021-08-27T07:33:53.969203Z",
     "shell.execute_reply": "2021-08-27T07:33:53.968626Z",
     "shell.execute_reply.started": "2021-08-27T07:30:29.084658Z"
    },
    "papermill": {
     "duration": 0.034198,
     "end_time": "2021-08-27T07:33:53.969352",
     "exception": false,
     "start_time": "2021-08-27T07:33:53.935154",
     "status": "completed"
    },
    "tags": []
   },
   "outputs": [],
   "source": [
    "y = df[\"Purchased\"]"
   ]
  },
  {
   "cell_type": "code",
   "execution_count": 11,
   "id": "1ef62ae1",
   "metadata": {
    "execution": {
     "iopub.execute_input": "2021-08-27T07:33:54.026018Z",
     "iopub.status.busy": "2021-08-27T07:33:54.025367Z",
     "iopub.status.idle": "2021-08-27T07:33:54.034864Z",
     "shell.execute_reply": "2021-08-27T07:33:54.035383Z",
     "shell.execute_reply.started": "2021-08-27T07:30:29.258483Z"
    },
    "papermill": {
     "duration": 0.039411,
     "end_time": "2021-08-27T07:33:54.035554",
     "exception": false,
     "start_time": "2021-08-27T07:33:53.996143",
     "status": "completed"
    },
    "tags": []
   },
   "outputs": [
    {
     "data": {
      "text/html": [
       "<div>\n",
       "<style scoped>\n",
       "    .dataframe tbody tr th:only-of-type {\n",
       "        vertical-align: middle;\n",
       "    }\n",
       "\n",
       "    .dataframe tbody tr th {\n",
       "        vertical-align: top;\n",
       "    }\n",
       "\n",
       "    .dataframe thead th {\n",
       "        text-align: right;\n",
       "    }\n",
       "</style>\n",
       "<table border=\"1\" class=\"dataframe\">\n",
       "  <thead>\n",
       "    <tr style=\"text-align: right;\">\n",
       "      <th></th>\n",
       "      <th>Gender</th>\n",
       "      <th>Age</th>\n",
       "      <th>EstimatedSalary</th>\n",
       "    </tr>\n",
       "  </thead>\n",
       "  <tbody>\n",
       "    <tr>\n",
       "      <th>0</th>\n",
       "      <td>Male</td>\n",
       "      <td>19</td>\n",
       "      <td>19000</td>\n",
       "    </tr>\n",
       "    <tr>\n",
       "      <th>1</th>\n",
       "      <td>Male</td>\n",
       "      <td>35</td>\n",
       "      <td>20000</td>\n",
       "    </tr>\n",
       "    <tr>\n",
       "      <th>2</th>\n",
       "      <td>Female</td>\n",
       "      <td>26</td>\n",
       "      <td>43000</td>\n",
       "    </tr>\n",
       "    <tr>\n",
       "      <th>3</th>\n",
       "      <td>Female</td>\n",
       "      <td>27</td>\n",
       "      <td>57000</td>\n",
       "    </tr>\n",
       "    <tr>\n",
       "      <th>4</th>\n",
       "      <td>Male</td>\n",
       "      <td>19</td>\n",
       "      <td>76000</td>\n",
       "    </tr>\n",
       "  </tbody>\n",
       "</table>\n",
       "</div>"
      ],
      "text/plain": [
       "   Gender  Age  EstimatedSalary\n",
       "0    Male   19            19000\n",
       "1    Male   35            20000\n",
       "2  Female   26            43000\n",
       "3  Female   27            57000\n",
       "4    Male   19            76000"
      ]
     },
     "execution_count": 11,
     "metadata": {},
     "output_type": "execute_result"
    }
   ],
   "source": [
    "X.head()"
   ]
  },
  {
   "cell_type": "code",
   "execution_count": 12,
   "id": "adb63778",
   "metadata": {
    "execution": {
     "iopub.execute_input": "2021-08-27T07:33:54.093074Z",
     "iopub.status.busy": "2021-08-27T07:33:54.092392Z",
     "iopub.status.idle": "2021-08-27T07:33:54.098235Z",
     "shell.execute_reply": "2021-08-27T07:33:54.098768Z",
     "shell.execute_reply.started": "2021-08-27T07:30:29.435444Z"
    },
    "papermill": {
     "duration": 0.036209,
     "end_time": "2021-08-27T07:33:54.098942",
     "exception": false,
     "start_time": "2021-08-27T07:33:54.062733",
     "status": "completed"
    },
    "tags": []
   },
   "outputs": [
    {
     "data": {
      "text/plain": [
       "0    0\n",
       "1    0\n",
       "2    0\n",
       "3    0\n",
       "4    0\n",
       "Name: Purchased, dtype: int64"
      ]
     },
     "execution_count": 12,
     "metadata": {},
     "output_type": "execute_result"
    }
   ],
   "source": [
    "y.head()"
   ]
  },
  {
   "cell_type": "code",
   "execution_count": 13,
   "id": "d644b4fc",
   "metadata": {
    "execution": {
     "iopub.execute_input": "2021-08-27T07:33:54.156718Z",
     "iopub.status.busy": "2021-08-27T07:33:54.156102Z",
     "iopub.status.idle": "2021-08-27T07:33:54.159357Z",
     "shell.execute_reply": "2021-08-27T07:33:54.159840Z",
     "shell.execute_reply.started": "2021-08-27T07:30:31.202197Z"
    },
    "papermill": {
     "duration": 0.033787,
     "end_time": "2021-08-27T07:33:54.160023",
     "exception": false,
     "start_time": "2021-08-27T07:33:54.126236",
     "status": "completed"
    },
    "tags": []
   },
   "outputs": [],
   "source": [
    "# we have to convert str value to numerical value to use in classifier"
   ]
  },
  {
   "cell_type": "code",
   "execution_count": 14,
   "id": "0cf7b602",
   "metadata": {
    "execution": {
     "iopub.execute_input": "2021-08-27T07:33:54.217937Z",
     "iopub.status.busy": "2021-08-27T07:33:54.217332Z",
     "iopub.status.idle": "2021-08-27T07:33:54.221922Z",
     "shell.execute_reply": "2021-08-27T07:33:54.222416Z",
     "shell.execute_reply.started": "2021-08-27T07:30:36.190530Z"
    },
    "papermill": {
     "duration": 0.034992,
     "end_time": "2021-08-27T07:33:54.222581",
     "exception": false,
     "start_time": "2021-08-27T07:33:54.187589",
     "status": "completed"
    },
    "tags": []
   },
   "outputs": [],
   "source": [
    "le = LabelEncoder()\n",
    "X[\"Gender\"] = le.fit_transform(X[\"Gender\"])"
   ]
  },
  {
   "cell_type": "code",
   "execution_count": 15,
   "id": "c2c266ec",
   "metadata": {
    "execution": {
     "iopub.execute_input": "2021-08-27T07:33:54.280091Z",
     "iopub.status.busy": "2021-08-27T07:33:54.279449Z",
     "iopub.status.idle": "2021-08-27T07:33:54.284092Z",
     "shell.execute_reply": "2021-08-27T07:33:54.284673Z",
     "shell.execute_reply.started": "2021-08-27T07:30:36.394444Z"
    },
    "papermill": {
     "duration": 0.035121,
     "end_time": "2021-08-27T07:33:54.284838",
     "exception": false,
     "start_time": "2021-08-27T07:33:54.249717",
     "status": "completed"
    },
    "tags": []
   },
   "outputs": [
    {
     "data": {
      "text/plain": [
       "array(['Female', 'Male'], dtype=object)"
      ]
     },
     "execution_count": 15,
     "metadata": {},
     "output_type": "execute_result"
    }
   ],
   "source": [
    "le.classes_"
   ]
  },
  {
   "cell_type": "code",
   "execution_count": 16,
   "id": "7820634d",
   "metadata": {
    "execution": {
     "iopub.execute_input": "2021-08-27T07:33:54.343177Z",
     "iopub.status.busy": "2021-08-27T07:33:54.342544Z",
     "iopub.status.idle": "2021-08-27T07:33:54.351566Z",
     "shell.execute_reply": "2021-08-27T07:33:54.352081Z",
     "shell.execute_reply.started": "2021-08-27T07:30:37.036951Z"
    },
    "papermill": {
     "duration": 0.039814,
     "end_time": "2021-08-27T07:33:54.352268",
     "exception": false,
     "start_time": "2021-08-27T07:33:54.312454",
     "status": "completed"
    },
    "tags": []
   },
   "outputs": [
    {
     "data": {
      "text/html": [
       "<div>\n",
       "<style scoped>\n",
       "    .dataframe tbody tr th:only-of-type {\n",
       "        vertical-align: middle;\n",
       "    }\n",
       "\n",
       "    .dataframe tbody tr th {\n",
       "        vertical-align: top;\n",
       "    }\n",
       "\n",
       "    .dataframe thead th {\n",
       "        text-align: right;\n",
       "    }\n",
       "</style>\n",
       "<table border=\"1\" class=\"dataframe\">\n",
       "  <thead>\n",
       "    <tr style=\"text-align: right;\">\n",
       "      <th></th>\n",
       "      <th>Gender</th>\n",
       "      <th>Age</th>\n",
       "      <th>EstimatedSalary</th>\n",
       "    </tr>\n",
       "  </thead>\n",
       "  <tbody>\n",
       "    <tr>\n",
       "      <th>0</th>\n",
       "      <td>1</td>\n",
       "      <td>19</td>\n",
       "      <td>19000</td>\n",
       "    </tr>\n",
       "    <tr>\n",
       "      <th>1</th>\n",
       "      <td>1</td>\n",
       "      <td>35</td>\n",
       "      <td>20000</td>\n",
       "    </tr>\n",
       "    <tr>\n",
       "      <th>2</th>\n",
       "      <td>0</td>\n",
       "      <td>26</td>\n",
       "      <td>43000</td>\n",
       "    </tr>\n",
       "    <tr>\n",
       "      <th>3</th>\n",
       "      <td>0</td>\n",
       "      <td>27</td>\n",
       "      <td>57000</td>\n",
       "    </tr>\n",
       "    <tr>\n",
       "      <th>4</th>\n",
       "      <td>1</td>\n",
       "      <td>19</td>\n",
       "      <td>76000</td>\n",
       "    </tr>\n",
       "  </tbody>\n",
       "</table>\n",
       "</div>"
      ],
      "text/plain": [
       "   Gender  Age  EstimatedSalary\n",
       "0       1   19            19000\n",
       "1       1   35            20000\n",
       "2       0   26            43000\n",
       "3       0   27            57000\n",
       "4       1   19            76000"
      ]
     },
     "execution_count": 16,
     "metadata": {},
     "output_type": "execute_result"
    }
   ],
   "source": [
    "X.head()"
   ]
  },
  {
   "cell_type": "code",
   "execution_count": 17,
   "id": "9d33dea0",
   "metadata": {
    "execution": {
     "iopub.execute_input": "2021-08-27T07:33:54.411257Z",
     "iopub.status.busy": "2021-08-27T07:33:54.410600Z",
     "iopub.status.idle": "2021-08-27T07:33:54.419911Z",
     "shell.execute_reply": "2021-08-27T07:33:54.419380Z",
     "shell.execute_reply.started": "2021-08-27T07:31:18.491774Z"
    },
    "papermill": {
     "duration": 0.039993,
     "end_time": "2021-08-27T07:33:54.420115",
     "exception": false,
     "start_time": "2021-08-27T07:33:54.380122",
     "status": "completed"
    },
    "tags": []
   },
   "outputs": [],
   "source": [
    "scaler = StandardScaler()\n",
    "X = scaler.fit_transform(X)"
   ]
  },
  {
   "cell_type": "code",
   "execution_count": 18,
   "id": "a819fe9b",
   "metadata": {
    "execution": {
     "iopub.execute_input": "2021-08-27T07:33:54.481676Z",
     "iopub.status.busy": "2021-08-27T07:33:54.480683Z",
     "iopub.status.idle": "2021-08-27T07:33:54.483845Z",
     "shell.execute_reply": "2021-08-27T07:33:54.483249Z",
     "shell.execute_reply.started": "2021-08-27T07:31:23.086975Z"
    },
    "papermill": {
     "duration": 0.035553,
     "end_time": "2021-08-27T07:33:54.483996",
     "exception": false,
     "start_time": "2021-08-27T07:33:54.448443",
     "status": "completed"
    },
    "tags": []
   },
   "outputs": [],
   "source": [
    "clf = RandomForestClassifier(max_depth=2, random_state=0)"
   ]
  },
  {
   "cell_type": "code",
   "execution_count": 19,
   "id": "c6c49d87",
   "metadata": {
    "execution": {
     "iopub.execute_input": "2021-08-27T07:33:54.544305Z",
     "iopub.status.busy": "2021-08-27T07:33:54.543606Z",
     "iopub.status.idle": "2021-08-27T07:33:54.546777Z",
     "shell.execute_reply": "2021-08-27T07:33:54.546269Z",
     "shell.execute_reply.started": "2021-08-27T07:31:24.309422Z"
    },
    "papermill": {
     "duration": 0.034961,
     "end_time": "2021-08-27T07:33:54.546911",
     "exception": false,
     "start_time": "2021-08-27T07:33:54.511950",
     "status": "completed"
    },
    "tags": []
   },
   "outputs": [],
   "source": [
    "# Spliting dataset into train and test so we can test the model performance on base of that\n"
   ]
  },
  {
   "cell_type": "code",
   "execution_count": 20,
   "id": "d61f5840",
   "metadata": {
    "execution": {
     "iopub.execute_input": "2021-08-27T07:33:54.606997Z",
     "iopub.status.busy": "2021-08-27T07:33:54.606359Z",
     "iopub.status.idle": "2021-08-27T07:33:54.612223Z",
     "shell.execute_reply": "2021-08-27T07:33:54.611697Z",
     "shell.execute_reply.started": "2021-08-27T07:31:25.405991Z"
    },
    "papermill": {
     "duration": 0.037117,
     "end_time": "2021-08-27T07:33:54.612368",
     "exception": false,
     "start_time": "2021-08-27T07:33:54.575251",
     "status": "completed"
    },
    "tags": []
   },
   "outputs": [],
   "source": [
    "train_x, test_x, train_y, test_y = train_test_split(X, y, train_size=0.8)"
   ]
  },
  {
   "cell_type": "code",
   "execution_count": 21,
   "id": "519a28f5",
   "metadata": {
    "execution": {
     "iopub.execute_input": "2021-08-27T07:33:54.674268Z",
     "iopub.status.busy": "2021-08-27T07:33:54.673241Z",
     "iopub.status.idle": "2021-08-27T07:33:54.677208Z",
     "shell.execute_reply": "2021-08-27T07:33:54.677655Z",
     "shell.execute_reply.started": "2021-08-27T07:31:26.876560Z"
    },
    "papermill": {
     "duration": 0.037563,
     "end_time": "2021-08-27T07:33:54.677838",
     "exception": false,
     "start_time": "2021-08-27T07:33:54.640275",
     "status": "completed"
    },
    "tags": []
   },
   "outputs": [
    {
     "name": "stdout",
     "output_type": "stream",
     "text": [
      "Shape of Training Features: (320, 3)\n",
      "Shape of Testing Features: (80, 3)\n",
      "Shape of output: (320,)\n",
      "Shape of output: (80,)\n"
     ]
    }
   ],
   "source": [
    "print(\"Shape of Training Features:\", train_x.shape)\n",
    "print(\"Shape of Testing Features:\", test_x.shape)\n",
    "print(\"Shape of output:\", train_y.shape)\n",
    "print(\"Shape of output:\", test_y.shape)"
   ]
  },
  {
   "cell_type": "code",
   "execution_count": 22,
   "id": "ce75d3b5",
   "metadata": {
    "execution": {
     "iopub.execute_input": "2021-08-27T07:33:54.764808Z",
     "iopub.status.busy": "2021-08-27T07:33:54.754519Z",
     "iopub.status.idle": "2021-08-27T07:33:54.935460Z",
     "shell.execute_reply": "2021-08-27T07:33:54.934900Z",
     "shell.execute_reply.started": "2021-08-27T07:31:28.443303Z"
    },
    "papermill": {
     "duration": 0.229556,
     "end_time": "2021-08-27T07:33:54.935648",
     "exception": false,
     "start_time": "2021-08-27T07:33:54.706092",
     "status": "completed"
    },
    "tags": []
   },
   "outputs": [
    {
     "data": {
      "text/plain": [
       "RandomForestClassifier(max_depth=2, random_state=0)"
      ]
     },
     "execution_count": 22,
     "metadata": {},
     "output_type": "execute_result"
    }
   ],
   "source": [
    "clf.fit(train_x, train_y)"
   ]
  },
  {
   "cell_type": "code",
   "execution_count": 23,
   "id": "abb35dca",
   "metadata": {
    "execution": {
     "iopub.execute_input": "2021-08-27T07:33:55.015875Z",
     "iopub.status.busy": "2021-08-27T07:33:55.014854Z",
     "iopub.status.idle": "2021-08-27T07:33:55.017489Z",
     "shell.execute_reply": "2021-08-27T07:33:55.018036Z",
     "shell.execute_reply.started": "2021-08-27T07:31:29.622638Z"
    },
    "papermill": {
     "duration": 0.054007,
     "end_time": "2021-08-27T07:33:55.018230",
     "exception": false,
     "start_time": "2021-08-27T07:33:54.964223",
     "status": "completed"
    },
    "tags": []
   },
   "outputs": [],
   "source": [
    "pred_y = clf.predict(test_x)"
   ]
  },
  {
   "cell_type": "code",
   "execution_count": 24,
   "id": "42617315",
   "metadata": {
    "execution": {
     "iopub.execute_input": "2021-08-27T07:33:55.079695Z",
     "iopub.status.busy": "2021-08-27T07:33:55.079004Z",
     "iopub.status.idle": "2021-08-27T07:33:55.082317Z",
     "shell.execute_reply": "2021-08-27T07:33:55.082816Z"
    },
    "papermill": {
     "duration": 0.035791,
     "end_time": "2021-08-27T07:33:55.083020",
     "exception": false,
     "start_time": "2021-08-27T07:33:55.047229",
     "status": "completed"
    },
    "tags": []
   },
   "outputs": [],
   "source": [
    "# we will evalute the model performance here"
   ]
  },
  {
   "cell_type": "code",
   "execution_count": 25,
   "id": "7171a259",
   "metadata": {
    "execution": {
     "iopub.execute_input": "2021-08-27T07:33:55.143544Z",
     "iopub.status.busy": "2021-08-27T07:33:55.142824Z",
     "iopub.status.idle": "2021-08-27T07:33:55.149185Z",
     "shell.execute_reply": "2021-08-27T07:33:55.150385Z",
     "shell.execute_reply.started": "2021-08-27T07:32:02.128383Z"
    },
    "papermill": {
     "duration": 0.039028,
     "end_time": "2021-08-27T07:33:55.150720",
     "exception": false,
     "start_time": "2021-08-27T07:33:55.111692",
     "status": "completed"
    },
    "tags": []
   },
   "outputs": [
    {
     "name": "stdout",
     "output_type": "stream",
     "text": [
      "Accuracy Score: 0.95\n"
     ]
    }
   ],
   "source": [
    "print(\"Accuracy Score:\", accuracy_score(test_y, pred_y))"
   ]
  },
  {
   "cell_type": "code",
   "execution_count": 26,
   "id": "1bbaec67",
   "metadata": {
    "execution": {
     "iopub.execute_input": "2021-08-27T07:33:55.215226Z",
     "iopub.status.busy": "2021-08-27T07:33:55.214536Z",
     "iopub.status.idle": "2021-08-27T07:33:55.222665Z",
     "shell.execute_reply": "2021-08-27T07:33:55.223368Z",
     "shell.execute_reply.started": "2021-08-27T07:32:22.904505Z"
    },
    "papermill": {
     "duration": 0.043091,
     "end_time": "2021-08-27T07:33:55.223606",
     "exception": false,
     "start_time": "2021-08-27T07:33:55.180515",
     "status": "completed"
    },
    "tags": []
   },
   "outputs": [
    {
     "name": "stdout",
     "output_type": "stream",
     "text": [
      "Confusion Metrix:\n",
      " [[48  2]\n",
      " [ 2 28]]\n"
     ]
    }
   ],
   "source": [
    "print(\"Confusion Metrix:\\n\", confusion_matrix(test_y, pred_y))"
   ]
  },
  {
   "cell_type": "code",
   "execution_count": 27,
   "id": "786875b6",
   "metadata": {
    "execution": {
     "iopub.execute_input": "2021-08-27T07:33:55.301342Z",
     "iopub.status.busy": "2021-08-27T07:33:55.298104Z",
     "iopub.status.idle": "2021-08-27T07:33:55.348004Z",
     "shell.execute_reply": "2021-08-27T07:33:55.347448Z",
     "shell.execute_reply.started": "2021-08-27T07:32:28.017232Z"
    },
    "papermill": {
     "duration": 0.094886,
     "end_time": "2021-08-27T07:33:55.348151",
     "exception": false,
     "start_time": "2021-08-27T07:33:55.253265",
     "status": "completed"
    },
    "tags": []
   },
   "outputs": [
    {
     "data": {
      "text/plain": [
       "['classifier.pkl']"
      ]
     },
     "execution_count": 27,
     "metadata": {},
     "output_type": "execute_result"
    }
   ],
   "source": [
    "joblib.dump(clf, \"classifier.pkl\")"
   ]
  },
  {
   "cell_type": "code",
   "execution_count": 28,
   "id": "39440b91",
   "metadata": {
    "execution": {
     "iopub.execute_input": "2021-08-27T07:33:55.412222Z",
     "iopub.status.busy": "2021-08-27T07:33:55.411512Z",
     "iopub.status.idle": "2021-08-27T07:33:55.413486Z",
     "shell.execute_reply": "2021-08-27T07:33:55.413945Z"
    },
    "papermill": {
     "duration": 0.036181,
     "end_time": "2021-08-27T07:33:55.414136",
     "exception": false,
     "start_time": "2021-08-27T07:33:55.377955",
     "status": "completed"
    },
    "tags": []
   },
   "outputs": [],
   "source": [
    "# we can use flask server to use classifier.pkl to predict the output"
   ]
  },
  {
   "cell_type": "code",
   "execution_count": null,
   "id": "8ff8b48a",
   "metadata": {
    "papermill": {
     "duration": 0.029719,
     "end_time": "2021-08-27T07:33:55.473729",
     "exception": false,
     "start_time": "2021-08-27T07:33:55.444010",
     "status": "completed"
    },
    "tags": []
   },
   "outputs": [],
   "source": []
  }
 ],
 "metadata": {
  "kernelspec": {
   "display_name": "Python 3",
   "language": "python",
   "name": "python3"
  },
  "language_info": {
   "codemirror_mode": {
    "name": "ipython",
    "version": 3
   },
   "file_extension": ".py",
   "mimetype": "text/x-python",
   "name": "python",
   "nbconvert_exporter": "python",
   "pygments_lexer": "ipython3",
   "version": "3.7.10"
  },
  "papermill": {
   "default_parameters": {},
   "duration": 12.521823,
   "end_time": "2021-08-27T07:33:56.314161",
   "environment_variables": {},
   "exception": null,
   "input_path": "__notebook__.ipynb",
   "output_path": "__notebook__.ipynb",
   "parameters": {},
   "start_time": "2021-08-27T07:33:43.792338",
   "version": "2.3.3"
  }
 },
 "nbformat": 4,
 "nbformat_minor": 5
}
